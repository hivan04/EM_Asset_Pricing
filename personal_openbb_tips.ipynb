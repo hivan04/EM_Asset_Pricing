{
 "cells": [
  {
   "cell_type": "markdown",
   "metadata": {},
   "source": [
    "## OpenBB Commands"
   ]
  },
  {
   "cell_type": "markdown",
   "metadata": {},
   "source": [
    "Loading Historical Price Data"
   ]
  },
  {
   "cell_type": "markdown",
   "metadata": {},
   "source": [
    "Should have these to use open BB"
   ]
  },
  {
   "cell_type": "code",
   "execution_count": 1,
   "metadata": {},
   "outputs": [
    {
     "name": "stdout",
     "output_type": "stream",
     "text": [
      "Extensions to add: fred@1.4.3\n",
      "Extensions to remove: alpha_vantage@1.4.0, biztoc@1.4.1, cboe@1.4.0, deribit@1.0.0, ecb@1.4.1, econometrics@1.5.2, finra@1.4.0, finviz@1.3.0, fred@1.4.1, government_us@1.4.0, multpl@1.1.0, nasdaq@1.4.0, openbb_charting@2.3.2, quantitative@1.4.2, seeking_alpha@1.4.0, stockgrid@1.4.0, store@0.1.1, technical@1.4.2, tmx@1.3.1, tradier@1.3.0, udf_yfinance@1.0.0, wsj@1.4.0\n",
      "\n",
      "Building...\n"
     ]
    }
   ],
   "source": [
    "from openbb import obb\n",
    "import pandas as pd"
   ]
  },
  {
   "cell_type": "markdown",
   "metadata": {},
   "source": [
    "Help Function (I assume it lists all the prompts?)"
   ]
  },
  {
   "cell_type": "code",
   "execution_count": 2,
   "metadata": {},
   "outputs": [
    {
     "name": "stdout",
     "output_type": "stream",
     "text": [
      "Help on method historical in module openbb.package.equity_price:\n",
      "\n",
      "historical(symbol: Annotated[Union[str, list[str]], OpenBBField(description='Symbol to get data for. Multiple comma separated items allowed for provider(s): fmp, polygon, tiingo, yfinance.')], start_date: Annotated[Union[datetime.date, NoneType, str], OpenBBField(description='Start date of the data, in YYYY-MM-DD format.')] = None, end_date: Annotated[Union[datetime.date, NoneType, str], OpenBBField(description='End date of the data, in YYYY-MM-DD format.')] = None, provider: Annotated[Optional[Literal['fmp', 'intrinio', 'polygon', 'tiingo', 'yfinance']], OpenBBField(description='The provider to use, by default None. If None, the priority list configured in the settings is used. Default priority: fmp, intrinio, polygon, tiingo, yfinance.')] = None, **kwargs) -> openbb_core.app.model.obbject.OBBject method of openbb.package.equity_price.ROUTER_equity_price instance\n",
      "    Get historical price data for a given stock. This includes open, high, low, close, and volume.\n",
      "    \n",
      "    Parameters\n",
      "    ----------\n",
      "    provider : str\n",
      "        The provider to use, by default None. If None, the priority list configured in the settings is used. Default priority: fmp, intrinio, polygon, tiingo, yfinance.\n",
      "    symbol : Union[str, list[str]]\n",
      "        Symbol to get data for. Multiple comma separated items allowed for provider(s): fmp, polygon, tiingo, yfinance.\n",
      "    start_date : Union[date, None, str]\n",
      "        Start date of the data, in YYYY-MM-DD format.\n",
      "    end_date : Union[date, None, str]\n",
      "        End date of the data, in YYYY-MM-DD format.\n",
      "    interval : str\n",
      "        Time interval of the data to return. (provider: fmp, intrinio, polygon, tiingo, yfinance)\n",
      "        Choices for fmp: '1m', '5m', '15m', '30m', '1h', '4h', '1d'\n",
      "        Choices for intrinio: '1m', '5m', '10m', '15m', '30m', '60m', '1h', '1d', '1W', '1M', '1Q', '1Y'\n",
      "        Choices for yfinance: '1m', '2m', '5m', '15m', '30m', '60m', '90m', '1h', '1d', '5d', '1W', '1M', '1Q'\n",
      "    start_time : Optional[datetime.time]\n",
      "        Return intervals starting at the specified time on the `start_date` formatted as 'HH:MM:SS'. (provider: intrinio)\n",
      "    end_time : Optional[datetime.time]\n",
      "        Return intervals stopping at the specified time on the `end_date` formatted as 'HH:MM:SS'. (provider: intrinio)\n",
      "    timezone : Optional[str]\n",
      "        Timezone of the data, in the IANA format (Continent/City). (provider: intrinio)\n",
      "    source : Literal['realtime', 'delayed', 'nasdaq_basic']\n",
      "        The source of the data. (provider: intrinio)\n",
      "    adjustment : str\n",
      "        The adjustment factor to apply. Default is splits only. (provider: polygon, yfinance)\n",
      "        Choices for polygon: 'splits_only', 'unadjusted'\n",
      "        Choices for yfinance: 'splits_only', 'splits_and_dividends'\n",
      "    extended_hours : bool\n",
      "        Include Pre and Post market data. (provider: polygon, yfinance)\n",
      "    sort : Literal['asc', 'desc']\n",
      "        Sort order of the data. This impacts the results in combination with the 'limit' parameter. The results are always returned in ascending order by date. (provider: polygon)\n",
      "    limit : int\n",
      "        The number of data entries to return. (provider: polygon)\n",
      "    include_actions : bool\n",
      "        Include dividends and stock splits in results. (provider: yfinance)\n",
      "    \n",
      "    Returns\n",
      "    -------\n",
      "    OBBject\n",
      "        results : list[EquityHistorical]\n",
      "            Serializable results.\n",
      "        provider : Optional[str]\n",
      "            Provider name.\n",
      "        warnings : Optional[list[Warning_]]\n",
      "            list of warnings.\n",
      "        chart : Optional[Chart]\n",
      "            Chart object.\n",
      "        extra : Dict[str, Any]\n",
      "            Extra info.\n",
      "    \n",
      "    EquityHistorical\n",
      "    ----------------\n",
      "    date : Union[date, datetime]\n",
      "        The date of the data.\n",
      "    open : float\n",
      "        The open price.\n",
      "    high : float\n",
      "        The high price.\n",
      "    low : float\n",
      "        The low price.\n",
      "    close : float\n",
      "        The close price.\n",
      "    volume : Optional[Union[int, float]]\n",
      "        The trading volume.\n",
      "    vwap : Optional[float]\n",
      "        Volume Weighted Average Price over the period.\n",
      "    adj_close : Optional[float]\n",
      "        The adjusted close price. (provider: fmp, intrinio, tiingo)\n",
      "    unadjusted_volume : Optional[float]\n",
      "        Unadjusted volume of the symbol. (provider: fmp)\n",
      "    change : Optional[float]\n",
      "        Change in the price from the previous close. (provider: fmp);\n",
      "        Change in the price of the symbol from the previous day. (provider: intrinio)\n",
      "    change_percent : Optional[float]\n",
      "        Change in the price from the previous close, as a normalized percent. (provider: fmp);\n",
      "        Percent change in the price of the symbol from the previous day. (provider: intrinio)\n",
      "    average : Optional[float]\n",
      "        Average trade price of an individual equity during the interval. (provider: intrinio)\n",
      "    adj_open : Optional[float]\n",
      "        The adjusted open price. (provider: intrinio, tiingo)\n",
      "    adj_high : Optional[float]\n",
      "        The adjusted high price. (provider: intrinio, tiingo)\n",
      "    adj_low : Optional[float]\n",
      "        The adjusted low price. (provider: intrinio, tiingo)\n",
      "    adj_volume : Optional[float]\n",
      "        The adjusted volume. (provider: intrinio, tiingo)\n",
      "    fifty_two_week_high : Optional[float]\n",
      "        52 week high price for the symbol. (provider: intrinio)\n",
      "    fifty_two_week_low : Optional[float]\n",
      "        52 week low price for the symbol. (provider: intrinio)\n",
      "    factor : Optional[float]\n",
      "        factor by which to multiply equity prices before this date, in order to calculate historically-adjusted equity prices. (provider: intrinio)\n",
      "    split_ratio : Optional[float]\n",
      "        Ratio of the equity split, if a split occurred. (provider: intrinio, tiingo, yfinance)\n",
      "    dividend : Optional[float]\n",
      "        Dividend amount, if a dividend was paid. (provider: intrinio, tiingo, yfinance)\n",
      "    close_time : Optional[datetime]\n",
      "        The timestamp that represents the end of the interval span. (provider: intrinio)\n",
      "    interval : Optional[str]\n",
      "        The data time frequency. (provider: intrinio)\n",
      "    intra_period : Optional[bool]\n",
      "        If true, the equity price represents an unfinished period (be it day, week, quarter, month, or year), meaning that the close price is the latest price available, not the official close price for the period (provider: intrinio)\n",
      "    transactions : Optional[Annotated[int, Gt(gt=0)]]\n",
      "        Number of transactions for the symbol in the time period. (provider: polygon)\n",
      "    \n",
      "    Examples\n",
      "    --------\n",
      "    >>> from openbb import obb\n",
      "    >>> obb.equity.price.historical(symbol='AAPL', provider='fmp')\n",
      "    >>> obb.equity.price.historical(symbol='AAPL', interval='1d', provider='intrinio')\n",
      "\n"
     ]
    }
   ],
   "source": [
    "help(obb.equity.price.historical)"
   ]
  },
  {
   "cell_type": "code",
   "execution_count": 3,
   "metadata": {},
   "outputs": [
    {
     "data": {
      "text/html": [
       "<div>\n",
       "<style scoped>\n",
       "    .dataframe tbody tr th:only-of-type {\n",
       "        vertical-align: middle;\n",
       "    }\n",
       "\n",
       "    .dataframe tbody tr th {\n",
       "        vertical-align: top;\n",
       "    }\n",
       "\n",
       "    .dataframe thead th {\n",
       "        text-align: right;\n",
       "    }\n",
       "</style>\n",
       "<table border=\"1\" class=\"dataframe\">\n",
       "  <thead>\n",
       "    <tr style=\"text-align: right;\">\n",
       "      <th></th>\n",
       "      <th>open</th>\n",
       "      <th>high</th>\n",
       "      <th>low</th>\n",
       "      <th>close</th>\n",
       "      <th>volume</th>\n",
       "      <th>dividend</th>\n",
       "    </tr>\n",
       "    <tr>\n",
       "      <th>date</th>\n",
       "      <th></th>\n",
       "      <th></th>\n",
       "      <th></th>\n",
       "      <th></th>\n",
       "      <th></th>\n",
       "      <th></th>\n",
       "    </tr>\n",
       "  </thead>\n",
       "  <tbody>\n",
       "    <tr>\n",
       "      <th>2024-04-25</th>\n",
       "      <td>499.179993</td>\n",
       "      <td>504.269989</td>\n",
       "      <td>497.48999</td>\n",
       "      <td>503.48999</td>\n",
       "      <td>69122400</td>\n",
       "      <td>0.0</td>\n",
       "    </tr>\n",
       "  </tbody>\n",
       "</table>\n",
       "</div>"
      ],
      "text/plain": [
       "                  open        high        low      close    volume  dividend\n",
       "date                                                                        \n",
       "2024-04-25  499.179993  504.269989  497.48999  503.48999  69122400       0.0"
      ]
     },
     "execution_count": 3,
     "metadata": {},
     "output_type": "execute_result"
    }
   ],
   "source": [
    "df_daily = obb.equity.price.historical(symbol = \"spy\", provider=\"yfinance\")\n",
    "df_daily.to_df().head(1)"
   ]
  },
  {
   "cell_type": "markdown",
   "metadata": {},
   "source": [
    "Financial Statements"
   ]
  },
  {
   "cell_type": "markdown",
   "metadata": {},
   "source": [
    "Balance Sheet: ``obb.equity.fundamental.balance()`` <br>\n",
    "Income Statement: ``obb.equity.fundamental.income()`` <br>\n",
    "Cash Flow Statement: ``obb.equity.fundamental.cash() ``"
   ]
  },
  {
   "cell_type": "code",
   "execution_count": 10,
   "metadata": {},
   "outputs": [
    {
     "data": {
      "text/html": [
       "<div>\n",
       "<style scoped>\n",
       "    .dataframe tbody tr th:only-of-type {\n",
       "        vertical-align: middle;\n",
       "    }\n",
       "\n",
       "    .dataframe tbody tr th {\n",
       "        vertical-align: top;\n",
       "    }\n",
       "\n",
       "    .dataframe thead th {\n",
       "        text-align: right;\n",
       "    }\n",
       "</style>\n",
       "<table border=\"1\" class=\"dataframe\">\n",
       "  <thead>\n",
       "    <tr style=\"text-align: right;\">\n",
       "      <th></th>\n",
       "      <th>period_ending</th>\n",
       "      <th>cash_financial</th>\n",
       "      <th>cash_equivalents</th>\n",
       "      <th>cash_and_cash_equivalents</th>\n",
       "      <th>short_term_investments</th>\n",
       "      <th>cash_cash_equivalents_and_short_term_investments</th>\n",
       "      <th>accounts_receivable</th>\n",
       "      <th>other_receivables</th>\n",
       "      <th>net_receivables</th>\n",
       "      <th>inventories</th>\n",
       "      <th>...</th>\n",
       "      <th>total_debt</th>\n",
       "      <th>net_debt</th>\n",
       "      <th>share_issued</th>\n",
       "      <th>ordinary_shares_number</th>\n",
       "      <th>other_properties</th>\n",
       "      <th>current_capital_lease_obligation</th>\n",
       "      <th>long_term_capital_lease_obligation</th>\n",
       "      <th>capital_lease_obligations</th>\n",
       "      <th>treasury_shares_number</th>\n",
       "      <th>other_investments</th>\n",
       "    </tr>\n",
       "  </thead>\n",
       "  <tbody>\n",
       "    <tr>\n",
       "      <th>0</th>\n",
       "      <td>2024-09-30</td>\n",
       "      <td>2.719900e+10</td>\n",
       "      <td>2.744000e+09</td>\n",
       "      <td>2.994300e+10</td>\n",
       "      <td>3.522800e+10</td>\n",
       "      <td>6.517100e+10</td>\n",
       "      <td>3.341000e+10</td>\n",
       "      <td>3.283300e+10</td>\n",
       "      <td>6.624300e+10</td>\n",
       "      <td>7.286000e+09</td>\n",
       "      <td>...</td>\n",
       "      <td>1.066290e+11</td>\n",
       "      <td>7.668600e+10</td>\n",
       "      <td>1.511679e+10</td>\n",
       "      <td>1.511679e+10</td>\n",
       "      <td>NaN</td>\n",
       "      <td>NaN</td>\n",
       "      <td>NaN</td>\n",
       "      <td>NaN</td>\n",
       "      <td>NaN</td>\n",
       "      <td>NaN</td>\n",
       "    </tr>\n",
       "  </tbody>\n",
       "</table>\n",
       "<p>1 rows × 69 columns</p>\n",
       "</div>"
      ],
      "text/plain": [
       "  period_ending  cash_financial  cash_equivalents  cash_and_cash_equivalents  \\\n",
       "0    2024-09-30    2.719900e+10      2.744000e+09               2.994300e+10   \n",
       "\n",
       "   short_term_investments  cash_cash_equivalents_and_short_term_investments  \\\n",
       "0            3.522800e+10                                      6.517100e+10   \n",
       "\n",
       "   accounts_receivable  other_receivables  net_receivables   inventories  ...  \\\n",
       "0         3.341000e+10       3.283300e+10     6.624300e+10  7.286000e+09  ...   \n",
       "\n",
       "     total_debt      net_debt  share_issued  ordinary_shares_number  \\\n",
       "0  1.066290e+11  7.668600e+10  1.511679e+10            1.511679e+10   \n",
       "\n",
       "   other_properties  current_capital_lease_obligation  \\\n",
       "0               NaN                               NaN   \n",
       "\n",
       "   long_term_capital_lease_obligation  capital_lease_obligations  \\\n",
       "0                                 NaN                        NaN   \n",
       "\n",
       "   treasury_shares_number  other_investments  \n",
       "0                     NaN                NaN  \n",
       "\n",
       "[1 rows x 69 columns]"
      ]
     },
     "execution_count": 10,
     "metadata": {},
     "output_type": "execute_result"
    }
   ],
   "source": [
    "df_daily = obb.equity.fundamental.balance(symbol = \"AAPL\", provider=\"yfinance\")\n",
    "df_daily.to_df().head(1)"
   ]
  }
 ],
 "metadata": {
  "kernelspec": {
   "display_name": "famafrench",
   "language": "python",
   "name": "python3"
  },
  "language_info": {
   "codemirror_mode": {
    "name": "ipython",
    "version": 3
   },
   "file_extension": ".py",
   "mimetype": "text/x-python",
   "name": "python",
   "nbconvert_exporter": "python",
   "pygments_lexer": "ipython3",
   "version": "3.11.0"
  }
 },
 "nbformat": 4,
 "nbformat_minor": 2
}
