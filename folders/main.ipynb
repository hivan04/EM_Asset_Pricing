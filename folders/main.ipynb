{
 "cells": [
  {
   "cell_type": "markdown",
   "id": "fd5b4f07",
   "metadata": {},
   "source": [
    "####  Data Cleaning and Composition <br>"
   ]
  },
  {
   "cell_type": "markdown",
   "id": "b76071f5",
   "metadata": {},
   "source": [
    "Import Data using yfinance"
   ]
  },
  {
   "cell_type": "code",
   "execution_count": 1,
   "id": "7dcb25c9",
   "metadata": {},
   "outputs": [],
   "source": [
    "import yfinance as yf \n",
    "import pandas as pd\n",
    "import numpy as np\n",
    "import matplotlib.pyplot as plt\n",
    "import seaborn as sns"
   ]
  },
  {
   "cell_type": "code",
   "execution_count": null,
   "id": "d435b0bc",
   "metadata": {},
   "outputs": [
    {
     "name": "stderr",
     "output_type": "stream",
     "text": [
      "[*********************100%***********************]  1 of 1 completed\n",
      "[*********************100%***********************]  1 of 1 completed\n"
     ]
    },
    {
     "data": {
      "text/html": [
       "<div>\n",
       "<style scoped>\n",
       "    .dataframe tbody tr th:only-of-type {\n",
       "        vertical-align: middle;\n",
       "    }\n",
       "\n",
       "    .dataframe tbody tr th {\n",
       "        vertical-align: top;\n",
       "    }\n",
       "\n",
       "    .dataframe thead tr th {\n",
       "        text-align: left;\n",
       "    }\n",
       "\n",
       "    .dataframe thead tr:last-of-type th {\n",
       "        text-align: right;\n",
       "    }\n",
       "</style>\n",
       "<table border=\"1\" class=\"dataframe\">\n",
       "  <thead>\n",
       "    <tr>\n",
       "      <th>Price</th>\n",
       "      <th>Close</th>\n",
       "      <th>High</th>\n",
       "      <th>Low</th>\n",
       "      <th>Open</th>\n",
       "      <th>Volume</th>\n",
       "    </tr>\n",
       "    <tr>\n",
       "      <th>Ticker</th>\n",
       "      <th>IEMG</th>\n",
       "      <th>IEMG</th>\n",
       "      <th>IEMG</th>\n",
       "      <th>IEMG</th>\n",
       "      <th>IEMG</th>\n",
       "    </tr>\n",
       "    <tr>\n",
       "      <th>Date</th>\n",
       "      <th></th>\n",
       "      <th></th>\n",
       "      <th></th>\n",
       "      <th></th>\n",
       "      <th></th>\n",
       "    </tr>\n",
       "  </thead>\n",
       "  <tbody>\n",
       "    <tr>\n",
       "      <th>2012-10-24</th>\n",
       "      <td>35.379620</td>\n",
       "      <td>35.673103</td>\n",
       "      <td>35.379620</td>\n",
       "      <td>35.629082</td>\n",
       "      <td>149500</td>\n",
       "    </tr>\n",
       "    <tr>\n",
       "      <th>2012-10-25</th>\n",
       "      <td>35.614407</td>\n",
       "      <td>35.834520</td>\n",
       "      <td>35.519023</td>\n",
       "      <td>35.775821</td>\n",
       "      <td>9800</td>\n",
       "    </tr>\n",
       "    <tr>\n",
       "      <th>2012-10-26</th>\n",
       "      <td>35.357609</td>\n",
       "      <td>35.482341</td>\n",
       "      <td>35.247554</td>\n",
       "      <td>35.394297</td>\n",
       "      <td>618700</td>\n",
       "    </tr>\n",
       "    <tr>\n",
       "      <th>2012-10-31</th>\n",
       "      <td>35.386959</td>\n",
       "      <td>35.665771</td>\n",
       "      <td>35.247555</td>\n",
       "      <td>35.665771</td>\n",
       "      <td>17500</td>\n",
       "    </tr>\n",
       "    <tr>\n",
       "      <th>2012-11-01</th>\n",
       "      <td>35.951904</td>\n",
       "      <td>35.951904</td>\n",
       "      <td>35.651082</td>\n",
       "      <td>35.651082</td>\n",
       "      <td>217200</td>\n",
       "    </tr>\n",
       "  </tbody>\n",
       "</table>\n",
       "</div>"
      ],
      "text/plain": [
       "Price           Close       High        Low       Open  Volume\n",
       "Ticker           IEMG       IEMG       IEMG       IEMG    IEMG\n",
       "Date                                                          \n",
       "2012-10-24  35.379620  35.673103  35.379620  35.629082  149500\n",
       "2012-10-25  35.614407  35.834520  35.519023  35.775821    9800\n",
       "2012-10-26  35.357609  35.482341  35.247554  35.394297  618700\n",
       "2012-10-31  35.386959  35.665771  35.247555  35.665771   17500\n",
       "2012-11-01  35.951904  35.951904  35.651082  35.651082  217200"
      ]
     },
     "execution_count": 3,
     "metadata": {},
     "output_type": "execute_result"
    }
   ],
   "source": [
    "df = yf.download('IEMG', interval='1d')  #we can change the asset to any ticker we want, just used this as a placeholder\n",
    "df2 = yf.download('IEMG', interval='1m')\n",
    "\n",
    "df.head()"
   ]
  },
  {
   "cell_type": "markdown",
   "id": "570e7ece",
   "metadata": {},
   "source": [
    "Data Cleaning "
   ]
  },
  {
   "cell_type": "code",
   "execution_count": null,
   "id": "6bf39e3e",
   "metadata": {},
   "outputs": [],
   "source": []
  },
  {
   "cell_type": "code",
   "execution_count": null,
   "id": "a37a5457",
   "metadata": {},
   "outputs": [],
   "source": []
  },
  {
   "cell_type": "markdown",
   "id": "b9611cdd",
   "metadata": {},
   "source": [
    "#### Factor Construction (Included endogeneous variables)"
   ]
  },
  {
   "cell_type": "code",
   "execution_count": null,
   "id": "7babf7e8",
   "metadata": {},
   "outputs": [],
   "source": []
  },
  {
   "cell_type": "code",
   "execution_count": null,
   "id": "da62184a",
   "metadata": {},
   "outputs": [],
   "source": []
  },
  {
   "cell_type": "markdown",
   "id": "8e035269",
   "metadata": {},
   "source": [
    "#### Model Testing"
   ]
  },
  {
   "cell_type": "markdown",
   "id": "974d4d31",
   "metadata": {},
   "source": [
    "##### Three-Factor Fama-French Model\n",
    "\n",
    "$$\n",
    "(R_{P,t} -r_{f,t}) = \\alpha_P\\ + \\beta_{MKT} (R_{MKT,t}-r_{f,t} )\\ +\\beta_{SMB} (SMB_t)\\ + \\beta_{HML}(HML_t) +\\varepsilon_i\n",
    "$$<br>\n",
    "Where:<br>\n",
    "- $R_P$ is the return of the portfolio <br>\n",
    "- $r_f$ is the risk-free rate<br>\n",
    "- $MKT$ is the notation for the market return/beta<br>\n",
    "- $SMB$ is the notation for small minus big (mkt cap) <br>\n",
    "- $HML$ is the notation for high minus low (btm) <br>"
   ]
  },
  {
   "cell_type": "markdown",
   "id": "f6c0d77d",
   "metadata": {},
   "source": [
    "##### Five-Factor Fama-French Model\n",
    "\n",
    "$$\n",
    "(R_{P,t} -r_{f,t}) = \\alpha_P\\ + \\beta_{MKT} (R_{MKT,t}-r_{f,t} )\\ +\\beta_{SMB} (SMB_t)\\ + \\beta_{HML} (HML_t) + \\beta_{RMW} (RMW_t) + \\beta_{CMA} (CMA_t) +\\varepsilon_i\n",
    "$$<br>\n",
    "Where:<br>\n",
    "- $R_P$ is the return of the portfolio <br>\n",
    "- $r_f$ is the risk-free rate<br>\n",
    "- $MKT$ is the notation for the market return/beta<br>\n",
    "- $SMB$ is the notation for small minus big (mkt cap) <br>\n",
    "- $HML$ is the notation for high minus low (btm) <br>\n",
    "- $RMW$ is the notation for robustness minus weakness (robust) <br>\n",
    "- $CMA$ is the notation for conservative minus aggressive (size of company & investment growth) <br>"
   ]
  },
  {
   "cell_type": "code",
   "execution_count": null,
   "id": "79164986",
   "metadata": {},
   "outputs": [],
   "source": []
  },
  {
   "cell_type": "code",
   "execution_count": null,
   "id": "8ab2ece0",
   "metadata": {},
   "outputs": [],
   "source": []
  },
  {
   "cell_type": "code",
   "execution_count": null,
   "id": "b4bbbdef",
   "metadata": {},
   "outputs": [],
   "source": []
  },
  {
   "cell_type": "code",
   "execution_count": null,
   "id": "2a4ffdf2",
   "metadata": {},
   "outputs": [],
   "source": []
  },
  {
   "cell_type": "code",
   "execution_count": null,
   "id": "b5cbc585",
   "metadata": {},
   "outputs": [],
   "source": []
  },
  {
   "cell_type": "code",
   "execution_count": null,
   "id": "51d0ae6f",
   "metadata": {},
   "outputs": [],
   "source": []
  }
 ],
 "metadata": {
  "kernelspec": {
   "display_name": "famafrench",
   "language": "python",
   "name": "python3"
  },
  "language_info": {
   "codemirror_mode": {
    "name": "ipython",
    "version": 3
   },
   "file_extension": ".py",
   "mimetype": "text/x-python",
   "name": "python",
   "nbconvert_exporter": "python",
   "pygments_lexer": "ipython3",
   "version": "3.11.0"
  }
 },
 "nbformat": 4,
 "nbformat_minor": 5
}
