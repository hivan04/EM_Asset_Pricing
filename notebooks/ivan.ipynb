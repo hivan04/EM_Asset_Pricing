{
 "cells": [
  {
   "cell_type": "markdown",
   "id": "8512569b",
   "metadata": {},
   "source": [
    "Install preliminaries "
   ]
  },
  {
   "cell_type": "code",
   "execution_count": 1,
   "id": "1ce1692f",
   "metadata": {},
   "outputs": [],
   "source": [
    "import numpy as np\n",
    "import pandas as pd \n",
    "import matplotlib"
   ]
  },
  {
   "cell_type": "code",
   "execution_count": 2,
   "id": "2095f265",
   "metadata": {},
   "outputs": [],
   "source": [
    "# Creating client key using API from polygon.io\n",
    "from polygon import RESTClient\n",
    "client = RESTClient(api_key=\"cWxjm9kYMt6VGw2sUCYocC3znFOfLKUF\")\n"
   ]
  },
  {
   "cell_type": "code",
   "execution_count": null,
   "id": "f380609d",
   "metadata": {},
   "outputs": [],
   "source": []
  },
  {
   "cell_type": "code",
   "execution_count": null,
   "id": "3e0df078",
   "metadata": {},
   "outputs": [],
   "source": []
  },
  {
   "cell_type": "code",
   "execution_count": null,
   "id": "e7c575b5",
   "metadata": {},
   "outputs": [],
   "source": []
  },
  {
   "cell_type": "code",
   "execution_count": null,
   "id": "b3deb3b2",
   "metadata": {},
   "outputs": [],
   "source": []
  }
 ],
 "metadata": {
  "kernelspec": {
   "display_name": "famafrench",
   "language": "python",
   "name": "python3"
  },
  "language_info": {
   "codemirror_mode": {
    "name": "ipython",
    "version": 3
   },
   "file_extension": ".py",
   "mimetype": "text/x-python",
   "name": "python",
   "nbconvert_exporter": "python",
   "pygments_lexer": "ipython3",
   "version": "3.12.7"
  }
 },
 "nbformat": 4,
 "nbformat_minor": 5
}
