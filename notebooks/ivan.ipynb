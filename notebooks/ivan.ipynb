{
 "cells": [
  {
   "cell_type": "markdown",
   "id": "8512569b",
   "metadata": {},
   "source": [
    "Install preliminaries "
   ]
  },
  {
   "cell_type": "code",
   "execution_count": 1,
   "id": "1ce1692f",
   "metadata": {},
   "outputs": [],
   "source": [
    "import investpy \n",
    "import numpy as np\n",
    "import pandas as pd \n",
    "import matplotlib"
   ]
  },
  {
   "cell_type": "code",
   "execution_count": null,
   "id": "2095f265",
   "metadata": {},
   "outputs": [],
   "source": []
  }
 ],
 "metadata": {
  "kernelspec": {
   "display_name": "famafrench",
   "language": "python",
   "name": "python3"
  },
  "language_info": {
   "codemirror_mode": {
    "name": "ipython",
    "version": 3
   },
   "file_extension": ".py",
   "mimetype": "text/x-python",
   "name": "python",
   "nbconvert_exporter": "python",
   "pygments_lexer": "ipython3",
   "version": "3.12.7"
  }
 },
 "nbformat": 4,
 "nbformat_minor": 5
}
