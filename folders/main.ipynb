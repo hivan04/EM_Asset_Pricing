{
 "cells": [
  {
   "cell_type": "code",
   "execution_count": 1,
   "id": "7dcb25c9",
   "metadata": {},
   "outputs": [],
   "source": [
    "import yfinance as yf \n",
    "import pandas as pd\n",
    "import numpy as np\n",
    "import matplotlib.pyplot as plt\n",
    "import seaborn as sns"
   ]
  },
  {
   "cell_type": "code",
   "execution_count": 3,
   "id": "d435b0bc",
   "metadata": {},
   "outputs": [
    {
     "name": "stderr",
     "output_type": "stream",
     "text": [
      "[*********************100%***********************]  1 of 1 completed\n",
      "[*********************100%***********************]  1 of 1 completed\n"
     ]
    },
    {
     "data": {
      "text/html": [
       "<div>\n",
       "<style scoped>\n",
       "    .dataframe tbody tr th:only-of-type {\n",
       "        vertical-align: middle;\n",
       "    }\n",
       "\n",
       "    .dataframe tbody tr th {\n",
       "        vertical-align: top;\n",
       "    }\n",
       "\n",
       "    .dataframe thead tr th {\n",
       "        text-align: left;\n",
       "    }\n",
       "\n",
       "    .dataframe thead tr:last-of-type th {\n",
       "        text-align: right;\n",
       "    }\n",
       "</style>\n",
       "<table border=\"1\" class=\"dataframe\">\n",
       "  <thead>\n",
       "    <tr>\n",
       "      <th>Price</th>\n",
       "      <th>Close</th>\n",
       "      <th>High</th>\n",
       "      <th>Low</th>\n",
       "      <th>Open</th>\n",
       "      <th>Volume</th>\n",
       "    </tr>\n",
       "    <tr>\n",
       "      <th>Ticker</th>\n",
       "      <th>IEMG</th>\n",
       "      <th>IEMG</th>\n",
       "      <th>IEMG</th>\n",
       "      <th>IEMG</th>\n",
       "      <th>IEMG</th>\n",
       "    </tr>\n",
       "    <tr>\n",
       "      <th>Date</th>\n",
       "      <th></th>\n",
       "      <th></th>\n",
       "      <th></th>\n",
       "      <th></th>\n",
       "      <th></th>\n",
       "    </tr>\n",
       "  </thead>\n",
       "  <tbody>\n",
       "    <tr>\n",
       "      <th>2012-10-24</th>\n",
       "      <td>35.379620</td>\n",
       "      <td>35.673103</td>\n",
       "      <td>35.379620</td>\n",
       "      <td>35.629082</td>\n",
       "      <td>149500</td>\n",
       "    </tr>\n",
       "    <tr>\n",
       "      <th>2012-10-25</th>\n",
       "      <td>35.614407</td>\n",
       "      <td>35.834520</td>\n",
       "      <td>35.519023</td>\n",
       "      <td>35.775821</td>\n",
       "      <td>9800</td>\n",
       "    </tr>\n",
       "    <tr>\n",
       "      <th>2012-10-26</th>\n",
       "      <td>35.357609</td>\n",
       "      <td>35.482341</td>\n",
       "      <td>35.247554</td>\n",
       "      <td>35.394297</td>\n",
       "      <td>618700</td>\n",
       "    </tr>\n",
       "    <tr>\n",
       "      <th>2012-10-31</th>\n",
       "      <td>35.386959</td>\n",
       "      <td>35.665771</td>\n",
       "      <td>35.247555</td>\n",
       "      <td>35.665771</td>\n",
       "      <td>17500</td>\n",
       "    </tr>\n",
       "    <tr>\n",
       "      <th>2012-11-01</th>\n",
       "      <td>35.951904</td>\n",
       "      <td>35.951904</td>\n",
       "      <td>35.651082</td>\n",
       "      <td>35.651082</td>\n",
       "      <td>217200</td>\n",
       "    </tr>\n",
       "  </tbody>\n",
       "</table>\n",
       "</div>"
      ],
      "text/plain": [
       "Price           Close       High        Low       Open  Volume\n",
       "Ticker           IEMG       IEMG       IEMG       IEMG    IEMG\n",
       "Date                                                          \n",
       "2012-10-24  35.379620  35.673103  35.379620  35.629082  149500\n",
       "2012-10-25  35.614407  35.834520  35.519023  35.775821    9800\n",
       "2012-10-26  35.357609  35.482341  35.247554  35.394297  618700\n",
       "2012-10-31  35.386959  35.665771  35.247555  35.665771   17500\n",
       "2012-11-01  35.951904  35.951904  35.651082  35.651082  217200"
      ]
     },
     "execution_count": 3,
     "metadata": {},
     "output_type": "execute_result"
    }
   ],
   "source": [
    "df = yf.download('IEMG', interval='1d')\n",
    "df2 = yf.download('IEMG', interval='1m')\n",
    "\n",
    "df.head()"
   ]
  },
  {
   "cell_type": "code",
   "execution_count": null,
   "id": "51d0ae6f",
   "metadata": {},
   "outputs": [],
   "source": []
  }
 ],
 "metadata": {
  "kernelspec": {
   "display_name": "famafrench",
   "language": "python",
   "name": "python3"
  },
  "language_info": {
   "codemirror_mode": {
    "name": "ipython",
    "version": 3
   },
   "file_extension": ".py",
   "mimetype": "text/x-python",
   "name": "python",
   "nbconvert_exporter": "python",
   "pygments_lexer": "ipython3",
   "version": "3.11.0"
  }
 },
 "nbformat": 4,
 "nbformat_minor": 5
}
