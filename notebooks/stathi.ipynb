{
 "cells": [
  {
   "cell_type": "markdown",
   "id": "fd5b4f07",
   "metadata": {},
   "source": [
    "####  Data Cleaning and Composition <br>"
   ]
  },
  {
   "cell_type": "markdown",
   "id": "b76071f5",
   "metadata": {},
   "source": [
    "Import Data using yfinance"
   ]
  },
  {
   "cell_type": "code",
   "execution_count": 34,
   "id": "7dcb25c9",
   "metadata": {},
   "outputs": [],
   "source": [
    "import yfinance as yf \n",
    "import pandas as pd\n",
    "import numpy as np\n",
    "import matplotlib.pyplot as plt\n",
    "import seaborn as sns"
   ]
  },
  {
   "cell_type": "markdown",
   "id": "9459cc3f",
   "metadata": {},
   "source": [
    "Downloading prices"
   ]
  },
  {
   "cell_type": "code",
   "execution_count": 35,
   "id": "d435b0bc",
   "metadata": {},
   "outputs": [
    {
     "name": "stderr",
     "output_type": "stream",
     "text": [
      "[*********************100%***********************]  1 of 1 completed\n"
     ]
    },
    {
     "data": {
      "text/html": [
       "<div>\n",
       "<style scoped>\n",
       "    .dataframe tbody tr th:only-of-type {\n",
       "        vertical-align: middle;\n",
       "    }\n",
       "\n",
       "    .dataframe tbody tr th {\n",
       "        vertical-align: top;\n",
       "    }\n",
       "\n",
       "    .dataframe thead tr th {\n",
       "        text-align: left;\n",
       "    }\n",
       "\n",
       "    .dataframe thead tr:last-of-type th {\n",
       "        text-align: right;\n",
       "    }\n",
       "</style>\n",
       "<table border=\"1\" class=\"dataframe\">\n",
       "  <thead>\n",
       "    <tr>\n",
       "      <th>Price</th>\n",
       "      <th>Close</th>\n",
       "      <th>High</th>\n",
       "      <th>Low</th>\n",
       "      <th>Open</th>\n",
       "      <th>Volume</th>\n",
       "    </tr>\n",
       "    <tr>\n",
       "      <th>Ticker</th>\n",
       "      <th>^KLSE</th>\n",
       "      <th>^KLSE</th>\n",
       "      <th>^KLSE</th>\n",
       "      <th>^KLSE</th>\n",
       "      <th>^KLSE</th>\n",
       "    </tr>\n",
       "    <tr>\n",
       "      <th>Date</th>\n",
       "      <th></th>\n",
       "      <th></th>\n",
       "      <th></th>\n",
       "      <th></th>\n",
       "      <th></th>\n",
       "    </tr>\n",
       "  </thead>\n",
       "  <tbody>\n",
       "    <tr>\n",
       "      <th>2015-01-01</th>\n",
       "      <td>1781.260010</td>\n",
       "      <td>1810.209961</td>\n",
       "      <td>1706.180054</td>\n",
       "      <td>1757.150024</td>\n",
       "      <td>3125644400</td>\n",
       "    </tr>\n",
       "    <tr>\n",
       "      <th>2015-02-01</th>\n",
       "      <td>1821.209961</td>\n",
       "      <td>1831.410034</td>\n",
       "      <td>1780.209961</td>\n",
       "      <td>1814.719971</td>\n",
       "      <td>2198667000</td>\n",
       "    </tr>\n",
       "    <tr>\n",
       "      <th>2015-03-01</th>\n",
       "      <td>1830.780029</td>\n",
       "      <td>1832.849976</td>\n",
       "      <td>1774.300049</td>\n",
       "      <td>1822.910034</td>\n",
       "      <td>2922107200</td>\n",
       "    </tr>\n",
       "    <tr>\n",
       "      <th>2015-04-01</th>\n",
       "      <td>1818.270020</td>\n",
       "      <td>1867.530029</td>\n",
       "      <td>1818.270020</td>\n",
       "      <td>1831.349976</td>\n",
       "      <td>2461880300</td>\n",
       "    </tr>\n",
       "    <tr>\n",
       "      <th>2015-05-01</th>\n",
       "      <td>1747.520020</td>\n",
       "      <td>1830.900024</td>\n",
       "      <td>1746.060059</td>\n",
       "      <td>1830.319946</td>\n",
       "      <td>2356653700</td>\n",
       "    </tr>\n",
       "  </tbody>\n",
       "</table>\n",
       "</div>"
      ],
      "text/plain": [
       "Price             Close         High          Low         Open      Volume\n",
       "Ticker            ^KLSE        ^KLSE        ^KLSE        ^KLSE       ^KLSE\n",
       "Date                                                                      \n",
       "2015-01-01  1781.260010  1810.209961  1706.180054  1757.150024  3125644400\n",
       "2015-02-01  1821.209961  1831.410034  1780.209961  1814.719971  2198667000\n",
       "2015-03-01  1830.780029  1832.849976  1774.300049  1822.910034  2922107200\n",
       "2015-04-01  1818.270020  1867.530029  1818.270020  1831.349976  2461880300\n",
       "2015-05-01  1747.520020  1830.900024  1746.060059  1830.319946  2356653700"
      ]
     },
     "execution_count": 35,
     "metadata": {},
     "output_type": "execute_result"
    }
   ],
   "source": [
    "# Custom date range \n",
    "y_start_date = '2015-01-01'\n",
    "y_end_date = '2025-04-01'\n",
    "\n",
    "# Download data from Yahoo Finance\n",
    "# Note: The ticker '^KLSE' is used as a placeholder. You can replace it with any other ticker symbol.\n",
    "mkt = yf.download('^KLSE', interval='1mo', start=y_start_date, end=y_end_date)  \n",
    "\n",
    "# Display the first few rows of the dataframe to verify the data \n",
    "mkt.head()"
   ]
  },
  {
   "cell_type": "code",
   "execution_count": 36,
   "id": "28e1cb88",
   "metadata": {},
   "outputs": [
    {
     "name": "stdout",
     "output_type": "stream",
     "text": [
      "The DataFrame 'prices' is set as a time series with a datetime index.\n"
     ]
    }
   ],
   "source": [
    "if isinstance(mkt.index, pd.DatetimeIndex):\n",
    "    print(\"The DataFrame 'prices' is set as a time series with a datetime index.\")\n",
    "else:\n",
    "    mkt.index = pd.to_datetime(prices.index)\n",
    "    print(\"Date has been converted to datetime format.\")"
   ]
  },
  {
   "cell_type": "code",
   "execution_count": 37,
   "id": "7e47b824",
   "metadata": {},
   "outputs": [
    {
     "data": {
      "text/html": [
       "<div>\n",
       "<style scoped>\n",
       "    .dataframe tbody tr th:only-of-type {\n",
       "        vertical-align: middle;\n",
       "    }\n",
       "\n",
       "    .dataframe tbody tr th {\n",
       "        vertical-align: top;\n",
       "    }\n",
       "\n",
       "    .dataframe thead th {\n",
       "        text-align: right;\n",
       "    }\n",
       "</style>\n",
       "<table border=\"1\" class=\"dataframe\">\n",
       "  <thead>\n",
       "    <tr style=\"text-align: right;\">\n",
       "      <th></th>\n",
       "      <th>Close</th>\n",
       "      <th>High</th>\n",
       "      <th>Low</th>\n",
       "      <th>Open</th>\n",
       "      <th>Volume</th>\n",
       "    </tr>\n",
       "    <tr>\n",
       "      <th>Date</th>\n",
       "      <th></th>\n",
       "      <th></th>\n",
       "      <th></th>\n",
       "      <th></th>\n",
       "      <th></th>\n",
       "    </tr>\n",
       "  </thead>\n",
       "  <tbody>\n",
       "    <tr>\n",
       "      <th>2015-01-01</th>\n",
       "      <td>1781.260010</td>\n",
       "      <td>1810.209961</td>\n",
       "      <td>1706.180054</td>\n",
       "      <td>1757.150024</td>\n",
       "      <td>3125644400</td>\n",
       "    </tr>\n",
       "    <tr>\n",
       "      <th>2015-02-01</th>\n",
       "      <td>1821.209961</td>\n",
       "      <td>1831.410034</td>\n",
       "      <td>1780.209961</td>\n",
       "      <td>1814.719971</td>\n",
       "      <td>2198667000</td>\n",
       "    </tr>\n",
       "    <tr>\n",
       "      <th>2015-03-01</th>\n",
       "      <td>1830.780029</td>\n",
       "      <td>1832.849976</td>\n",
       "      <td>1774.300049</td>\n",
       "      <td>1822.910034</td>\n",
       "      <td>2922107200</td>\n",
       "    </tr>\n",
       "    <tr>\n",
       "      <th>2015-04-01</th>\n",
       "      <td>1818.270020</td>\n",
       "      <td>1867.530029</td>\n",
       "      <td>1818.270020</td>\n",
       "      <td>1831.349976</td>\n",
       "      <td>2461880300</td>\n",
       "    </tr>\n",
       "    <tr>\n",
       "      <th>2015-05-01</th>\n",
       "      <td>1747.520020</td>\n",
       "      <td>1830.900024</td>\n",
       "      <td>1746.060059</td>\n",
       "      <td>1830.319946</td>\n",
       "      <td>2356653700</td>\n",
       "    </tr>\n",
       "  </tbody>\n",
       "</table>\n",
       "</div>"
      ],
      "text/plain": [
       "                  Close         High          Low         Open      Volume\n",
       "Date                                                                      \n",
       "2015-01-01  1781.260010  1810.209961  1706.180054  1757.150024  3125644400\n",
       "2015-02-01  1821.209961  1831.410034  1780.209961  1814.719971  2198667000\n",
       "2015-03-01  1830.780029  1832.849976  1774.300049  1822.910034  2922107200\n",
       "2015-04-01  1818.270020  1867.530029  1818.270020  1831.349976  2461880300\n",
       "2015-05-01  1747.520020  1830.900024  1746.060059  1830.319946  2356653700"
      ]
     },
     "execution_count": 37,
     "metadata": {},
     "output_type": "execute_result"
    }
   ],
   "source": [
    "mkt.columns = [\"Close\", \"High\", \"Low\", \"Open\", \"Volume\"]\n",
    "mkt.head()"
   ]
  },
  {
   "cell_type": "code",
   "execution_count": null,
   "id": "aecbe526",
   "metadata": {},
   "outputs": [],
   "source": []
  },
  {
   "cell_type": "markdown",
   "id": "327096bc",
   "metadata": {},
   "source": [
    "Downloading 3-Statement Info."
   ]
  },
  {
   "cell_type": "code",
   "execution_count": null,
   "id": "9ae25549",
   "metadata": {},
   "outputs": [],
   "source": []
  },
  {
   "cell_type": "code",
   "execution_count": null,
   "id": "1fe42887",
   "metadata": {},
   "outputs": [],
   "source": []
  },
  {
   "cell_type": "markdown",
   "id": "570e7ece",
   "metadata": {},
   "source": [
    "Data Cleaning "
   ]
  },
  {
   "cell_type": "code",
   "execution_count": null,
   "id": "6bf39e3e",
   "metadata": {},
   "outputs": [],
   "source": []
  },
  {
   "cell_type": "code",
   "execution_count": null,
   "id": "a37a5457",
   "metadata": {},
   "outputs": [],
   "source": []
  },
  {
   "cell_type": "markdown",
   "id": "b9611cdd",
   "metadata": {},
   "source": [
    "#### Factor Construction (Included endogeneous variables)"
   ]
  },
  {
   "cell_type": "code",
   "execution_count": null,
   "id": "7babf7e8",
   "metadata": {},
   "outputs": [],
   "source": []
  },
  {
   "cell_type": "code",
   "execution_count": null,
   "id": "da62184a",
   "metadata": {},
   "outputs": [],
   "source": []
  },
  {
   "cell_type": "markdown",
   "id": "8e035269",
   "metadata": {},
   "source": [
    "#### Model Testing"
   ]
  },
  {
   "cell_type": "markdown",
   "id": "974d4d31",
   "metadata": {},
   "source": [
    "##### Three-Factor Fama-French Model\n",
    "\n",
    "$$\n",
    "(R_{P,t} -r_{f,t}) = \\alpha_P\\ + \\beta_{MKT} (R_{MKT,t}-r_{f,t} )\\ +\\beta_{SMB} (SMB_t)\\ + \\beta_{HML}(HML_t) +\\varepsilon_i\n",
    "$$<br>\n",
    "Where:<br>\n",
    "- $R_P$ is the return of the portfolio <br>\n",
    "- $r_f$ is the risk-free rate<br>\n",
    "- $MKT$ is the notation for the market return/beta<br>\n",
    "- $SMB$ is the notation for small minus big (mkt cap) <br>\n",
    "- $HML$ is the notation for high minus low (btm) <br>"
   ]
  },
  {
   "cell_type": "markdown",
   "id": "f6c0d77d",
   "metadata": {},
   "source": [
    "##### Five-Factor Fama-French Model\n",
    "\n",
    "$$\n",
    "(R_{P,t} -r_{f,t}) = \\alpha_P\\ + \\beta_{MKT} (R_{MKT,t}-r_{f,t} )\\ +\\beta_{SMB} (SMB_t)\\ + \\beta_{HML} (HML_t) + \\beta_{RMW} (RMW_t) + \\beta_{CMA} (CMA_t) +\\varepsilon_i\n",
    "$$<br>\n",
    "Where:<br>\n",
    "- $R_P$ is the return of the portfolio <br>\n",
    "- $r_f$ is the risk-free rate<br>\n",
    "- $MKT$ is the notation for the market return/beta<br>\n",
    "- $SMB$ is the notation for small minus big (mkt cap) <br>\n",
    "- $HML$ is the notation for high minus low (btm) <br>\n",
    "- $RMW$ is the notation for robustness minus weakness (robust) <br>\n",
    "- $CMA$ is the notation for conservative minus aggressive (size of company & investment growth) <br>"
   ]
  },
  {
   "cell_type": "code",
   "execution_count": null,
   "id": "79164986",
   "metadata": {},
   "outputs": [],
   "source": []
  },
  {
   "cell_type": "code",
   "execution_count": null,
   "id": "8ab2ece0",
   "metadata": {},
   "outputs": [],
   "source": []
  },
  {
   "cell_type": "code",
   "execution_count": null,
   "id": "b4bbbdef",
   "metadata": {},
   "outputs": [],
   "source": []
  },
  {
   "cell_type": "code",
   "execution_count": null,
   "id": "2a4ffdf2",
   "metadata": {},
   "outputs": [],
   "source": []
  },
  {
   "cell_type": "code",
   "execution_count": null,
   "id": "b5cbc585",
   "metadata": {},
   "outputs": [],
   "source": []
  },
  {
   "cell_type": "code",
   "execution_count": null,
   "id": "51d0ae6f",
   "metadata": {},
   "outputs": [],
   "source": []
  }
 ],
 "metadata": {
  "kernelspec": {
   "display_name": "famafrench",
   "language": "python",
   "name": "python3"
  },
  "language_info": {
   "codemirror_mode": {
    "name": "ipython",
    "version": 3
   },
   "file_extension": ".py",
   "mimetype": "text/x-python",
   "name": "python",
   "nbconvert_exporter": "python",
   "pygments_lexer": "ipython3",
   "version": "3.11.0"
  }
 },
 "nbformat": 4,
 "nbformat_minor": 5
}
